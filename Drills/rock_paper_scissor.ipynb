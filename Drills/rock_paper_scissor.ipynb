{
 "cells": [
  {
   "cell_type": "code",
   "execution_count": 9,
   "metadata": {},
   "outputs": [
    {
     "name": "stdout",
     "output_type": "stream",
     "text": [
      "rock(r),paper(p),scissor(s)s\n",
      "s vs 1\n",
      "computer wins\n"
     ]
    }
   ],
   "source": [
    "player=input('rock(r),paper(p),scissor(s)')\n",
    "\n",
    "from random import randint\n",
    "\n",
    "computer=randint(1,3)#there is package in python to select randomly\n",
    "\n",
    "print(player,'vs',computer)\n",
    "if(player=='r' and computer==2):\n",
    "    print('computer wins')\n",
    "elif(player=='r' and computer==3):\n",
    "    print('player wins')\n",
    "elif(player=='p' and computer==1):\n",
    "    print('player wins')\n",
    "elif(player=='p' and computer==3):\n",
    "    print('computer wins')\n",
    "elif(player=='s' and computer==1):\n",
    "    print('computer wins')\n",
    "elif(player=='s' and computer==2):\n",
    "    print('player wins')\n",
    "else:\n",
    "    print(\"it's a tie\")"
   ]
  },
  {
   "cell_type": "code",
   "execution_count": null,
   "metadata": {},
   "outputs": [],
   "source": []
  }
 ],
 "metadata": {
  "kernelspec": {
   "display_name": "Python 3",
   "language": "python",
   "name": "python3"
  },
  "language_info": {
   "codemirror_mode": {
    "name": "ipython",
    "version": 3
   },
   "file_extension": ".py",
   "mimetype": "text/x-python",
   "name": "python",
   "nbconvert_exporter": "python",
   "pygments_lexer": "ipython3",
   "version": "3.7.3"
  }
 },
 "nbformat": 4,
 "nbformat_minor": 2
}
