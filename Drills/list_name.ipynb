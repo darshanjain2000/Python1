{
 "cells": [
  {
   "cell_type": "code",
   "execution_count": 2,
   "metadata": {},
   "outputs": [
    {
     "name": "stdout",
     "output_type": "stream",
     "text": [
      "enter the 1 name\n",
      "n\n",
      "enter the 2 name\n",
      "//\n",
      "enter the 3 name\n",
      ";/TOWUJMP i\n",
      "enter the 4 name\n",
      ",'[pq;r un'p[,k\n",
      "enter the 5 name\n",
      "mupc]\n",
      "n // ;/TOWUJMP i ,'[pq;r un'p[,k mupc] \n",
      "\n",
      "sorted list is:\n",
      ",'[pq;r un'p[,k // ;/TOWUJMP i mupc] n \n",
      "\n",
      "enter the no: [QFON\n"
     ]
    },
    {
     "ename": "ValueError",
     "evalue": "invalid literal for int() with base 10: '[QFON'",
     "output_type": "error",
     "traceback": [
      "\u001b[1;31m---------------------------------------------------------------------------\u001b[0m",
      "\u001b[1;31mValueError\u001b[0m                                Traceback (most recent call last)",
      "\u001b[1;32m<ipython-input-2-2adc0452eabf>\u001b[0m in \u001b[0;36m<module>\u001b[1;34m\u001b[0m\n\u001b[0;32m     12\u001b[0m     \u001b[0mprint\u001b[0m\u001b[1;33m(\u001b[0m\u001b[0my\u001b[0m\u001b[1;33m,\u001b[0m\u001b[0mend\u001b[0m\u001b[1;33m=\u001b[0m\u001b[1;34m\" \"\u001b[0m\u001b[1;33m)\u001b[0m\u001b[1;33m\u001b[0m\u001b[1;33m\u001b[0m\u001b[0m\n\u001b[0;32m     13\u001b[0m \u001b[0mprint\u001b[0m\u001b[1;33m(\u001b[0m\u001b[1;34m\"\\n\"\u001b[0m\u001b[1;33m)\u001b[0m\u001b[1;33m\u001b[0m\u001b[1;33m\u001b[0m\u001b[0m\n\u001b[1;32m---> 14\u001b[1;33m \u001b[0mm\u001b[0m\u001b[1;33m=\u001b[0m\u001b[0mint\u001b[0m\u001b[1;33m(\u001b[0m\u001b[0minput\u001b[0m\u001b[1;33m(\u001b[0m\u001b[1;34m\"enter the no: \"\u001b[0m\u001b[1;33m)\u001b[0m\u001b[1;33m)\u001b[0m\u001b[1;33m\u001b[0m\u001b[1;33m\u001b[0m\u001b[0m\n\u001b[0m\u001b[0;32m     15\u001b[0m \u001b[0mprint\u001b[0m\u001b[1;33m(\u001b[0m\u001b[0mname\u001b[0m\u001b[1;33m[\u001b[0m\u001b[0mm\u001b[0m\u001b[1;33m+\u001b[0m\u001b[1;36m1\u001b[0m\u001b[1;33m]\u001b[0m\u001b[1;33m)\u001b[0m\u001b[1;33m\u001b[0m\u001b[1;33m\u001b[0m\u001b[0m\n\u001b[0;32m     16\u001b[0m \u001b[1;33m\u001b[0m\u001b[0m\n",
      "\u001b[1;31mValueError\u001b[0m: invalid literal for int() with base 10: '[QFON'"
     ]
    }
   ],
   "source": [
    "name=[]\n",
    "for i in range(5):\n",
    "    print(\"enter the\",i+1,\"name\")\n",
    "    n=input()\n",
    "    name.append(n)\n",
    "for x in range(5):\n",
    "    print(name[x],end=\" \")\n",
    "name.sort()# to sort\n",
    "print(\"\\n\")\n",
    "print(\"sorted list is:\")\n",
    "for y in name:\n",
    "    print(y,end=\" \")\n",
    "print(\"\\n\")\n",
    "m=int(input(\"enter the no: \"))\n",
    "print(name[m+1])\n",
    "\n",
    "na=input(\"\\nenter the name to be replaced \")\n",
    "for i in range(5):\n",
    "    if(na==name[i]):\n",
    "        pos=i\n",
    "        break\n",
    "lala=input(\"\\nenter the new name: \")\n",
    "name[pos]=lala\n",
    "for x in range(5):\n",
    "    print(name[x],end=\" \")\n",
    "# we can us name.replace(index)"
   ]
  },
  {
   "cell_type": "markdown",
   "metadata": {},
   "source": []
  }
 ],
 "metadata": {
  "kernelspec": {
   "display_name": "Python 3",
   "language": "python",
   "name": "python3"
  },
  "language_info": {
   "codemirror_mode": {
    "name": "ipython",
    "version": 3
   },
   "file_extension": ".py",
   "mimetype": "text/x-python",
   "name": "python",
   "nbconvert_exporter": "python",
   "pygments_lexer": "ipython3",
   "version": "3.7.3"
  }
 },
 "nbformat": 4,
 "nbformat_minor": 2
}
