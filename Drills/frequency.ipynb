{
 "cells": [
  {
   "cell_type": "code",
   "execution_count": 11,
   "metadata": {},
   "outputs": [
    {
     "name": "stdout",
     "output_type": "stream",
     "text": [
      "<class 'str'>\n",
      "c = 2\n",
      "o = 2\n",
      "n = 1\n",
      "u = 1\n",
      "t = 1\n",
      "coconut\n"
     ]
    }
   ],
   "source": [
    "s='coconut'\n",
    "print(type(s))\n",
    "temp=''\n",
    "for x in s:\n",
    "    if(x not in temp):\n",
    "        print(x,\"=\",s.count(x))\n",
    "    temp=temp+x\n",
    "print(temp)"
   ]
  },
  {
   "cell_type": "code",
   "execution_count": 29,
   "metadata": {},
   "outputs": [
    {
     "name": "stdout",
     "output_type": "stream",
     "text": [
      "<class 'list'>\n",
      "c = 2\n",
      "['c']\n",
      "o = 2\n",
      "['c', 'o']\n",
      "['c', 'o', 'c']\n",
      "['c', 'o', 'c', 'o']\n",
      "n = 1\n",
      "['c', 'o', 'c', 'o', 'n']\n",
      "u = 1\n",
      "['c', 'o', 'c', 'o', 'n', 'u']\n",
      "t = 1\n",
      "['c', 'o', 'c', 'o', 'n', 'u', 't']\n"
     ]
    }
   ],
   "source": [
    "import pandas as pd\n",
    "s=['c','o','c','o','n','u','t']\n",
    "\n",
    "print(type(s))\n",
    "temp=[]\n",
    "for x in s:\n",
    "    if(x not in temp):\n",
    "        print(x,\"=\",s.count(x))\n",
    "    temp.append(x)\n",
    "    print(temp)#to understand"
   ]
  },
  {
   "cell_type": "code",
   "execution_count": 31,
   "metadata": {},
   "outputs": [
    {
     "name": "stdout",
     "output_type": "stream",
     "text": [
      "<class 'tuple'>\n",
      "c = 2\n",
      "o = 1\n",
      "n = 1\n",
      "u = 1\n",
      "t = 1\n"
     ]
    }
   ],
   "source": [
    "s=('c','o','c','n','u','t')\n",
    "print(type(s))\n",
    "temp=''\n",
    "for x in s:\n",
    "    if(x not in temp):\n",
    "        print(x,\"=\",s.count(x))\n",
    "    temp=temp+x"
   ]
  },
  {
   "cell_type": "code",
   "execution_count": 28,
   "metadata": {},
   "outputs": [
    {
     "name": "stdout",
     "output_type": "stream",
     "text": [
      "<class 'tuple'>\n",
      "c = 2\n",
      "o = 1\n",
      "n = 1\n",
      "u = 1\n",
      "t = 1\n",
      "1 = 1\n",
      "3 = 1\n",
      "4 = 1\n",
      "6 = 1\n"
     ]
    }
   ],
   "source": [
    "s=('c','o','c','n','u','t',1,3,4,6)\n",
    "print(type(s))\n",
    "temp=''\n",
    "for x in s:\n",
    "    if(str(x) not in temp):  #it won't work with integer therefore we need to typecast\n",
    "        print(x,\"=\",s.count(x))\n",
    "    temp=temp+str(x)"
   ]
  },
  {
   "cell_type": "code",
   "execution_count": 31,
   "metadata": {},
   "outputs": [
    {
     "name": "stdout",
     "output_type": "stream",
     "text": [
      "a = 1\n",
      "0 = 1\n",
      "5 = 1\n",
      "9 = 1\n",
      "c = 1\n"
     ]
    }
   ],
   "source": [
    "s=('a',0,5,9,'c')\n",
    "temp=()\n",
    "for x in s:\n",
    "    if x not in temp:\n",
    "        print(x,\"=\",s.count(x))\n",
    "    temp+=(x,)"
   ]
  },
  {
   "cell_type": "code",
   "execution_count": null,
   "metadata": {},
   "outputs": [],
   "source": []
  }
 ],
 "metadata": {
  "kernelspec": {
   "display_name": "Python 3",
   "language": "python",
   "name": "python3"
  },
  "language_info": {
   "codemirror_mode": {
    "name": "ipython",
    "version": 3
   },
   "file_extension": ".py",
   "mimetype": "text/x-python",
   "name": "python",
   "nbconvert_exporter": "python",
   "pygments_lexer": "ipython3",
   "version": "3.7.3"
  }
 },
 "nbformat": 4,
 "nbformat_minor": 2
}
