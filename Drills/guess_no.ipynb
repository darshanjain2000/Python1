{
 "cells": [
  {
   "cell_type": "code",
   "execution_count": 5,
   "metadata": {},
   "outputs": [
    {
     "name": "stdout",
     "output_type": "stream",
     "text": [
      "34\n",
      "ENTER YOUR GUESS : 34\n",
      "CONGRATULATIONS!, you guessed the correct answer in 1 attempts\n"
     ]
    }
   ],
   "source": [
    "from random import randint\n",
    "\n",
    "var = randint(1,100)\n",
    "print(var)\n",
    "\n",
    "attempt = 1\n",
    "flag = 0\n",
    "temp = 0\n",
    "\n",
    "while(flag==0):\n",
    "    guess = int(input(\"ENTER YOUR GUESS : \"))\n",
    "    if (var == guess):\n",
    "        print(\"CONGRATULATIONS!, you guessed the correct answer in \" + str(attempt) + \" attempts\")\n",
    "        flag+=1\n",
    "        break\n",
    "    else:\n",
    "        attempt += 1\n",
    "        #temp = var\n",
    "        if (var-10 < guess < var+10):\n",
    "            print(\"WARM\")\n",
    "        elif (guess>var+10 or guess<var-10):\n",
    "            print(\"COLD\")\n",
    "            \n",
    "        if (abs(guess-var) > abs(temp-var) and temp != 0):\n",
    "            print(\"COLDER\")\n",
    "        elif (abs(guess-var) < abs(temp-var) and temp != 0):\n",
    "            print(\"WARMER\")\n",
    "        temp = guess\n",
    "    if (flag == 1):\n",
    "        break"
   ]
  },
  {
   "cell_type": "code",
   "execution_count": null,
   "metadata": {},
   "outputs": [],
   "source": []
  }
 ],
 "metadata": {
  "kernelspec": {
   "display_name": "Python 3",
   "language": "python",
   "name": "python3"
  },
  "language_info": {
   "codemirror_mode": {
    "name": "ipython",
    "version": 3
   },
   "file_extension": ".py",
   "mimetype": "text/x-python",
   "name": "python",
   "nbconvert_exporter": "python",
   "pygments_lexer": "ipython3",
   "version": "3.7.3"
  }
 },
 "nbformat": 4,
 "nbformat_minor": 2
}
