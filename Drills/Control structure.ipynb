{
 "cells": [
  {
   "cell_type": "code",
   "execution_count": 1,
   "metadata": {},
   "outputs": [
    {
     "name": "stdout",
     "output_type": "stream",
     "text": [
      "Enter the amount:-20\n",
      "16.0\n"
     ]
    }
   ],
   "source": [
    "price=int(input('Enter the amount:-'))\n",
    "if(price<=10):\n",
    "    amt=price*0.90\n",
    "    print(amt)\n",
    "elif(price>10):\n",
    "    amt=price*0.80\n",
    "    print(amt)"
   ]
  },
  {
   "cell_type": "code",
   "execution_count": null,
   "metadata": {},
   "outputs": [
    {
     "name": "stdout",
     "output_type": "stream",
     "text": [
      "enter password: fxgddAd4\n"
     ]
    }
   ],
   "source": [
    "\n",
    "import re \n",
    "password =input(\"enter password: \")\n",
    "flag = 0\n",
    "count=0\n",
    "\n",
    "while True: \n",
    "    if (6<len(password)<12):\n",
    "        if(re.search('[a-z]',password)):\n",
    "            count+=1\n",
    "            if(re.search('[A-Z]',password)):\n",
    "                count+=1\n",
    "                if(re.search('[0-9]',password)):\n",
    "                    count+=1\n",
    "                    flag=1\n",
    "    else:\n",
    "        break\n",
    "\n",
    "if flag ==1:\n",
    "    print(\"Valid Password\")\n",
    "else: \n",
    "    print(\"Not a Valid Password\") \n"
   ]
  },
  {
   "cell_type": "code",
   "execution_count": null,
   "metadata": {},
   "outputs": [],
   "source": [
    "        elif not re.search(\"[a-z]\", password): \n",
    "            flag = -1\n",
    "            break\n",
    "        elif not re.search(\"[A-Z]\", password): \n",
    "            flag = -1\n",
    "            break\n",
    "        elif not re.search(\"[0-9]\", password): \n",
    "            flag = -1\n",
    "            break\n",
    "        elif not re.search(\"[_@$]\", password): \n",
    "            flag = -1\n",
    "            break\n",
    "        elif re.search(\"\\s\", password): \n",
    "            flag = -1\n",
    "            break\n",
    "        else: \n",
    "            flag = 0\n",
    "\t\tprint(\"Valid Password\") \n",
    "        break"
   ]
  },
  {
   "cell_type": "code",
   "execution_count": null,
   "metadata": {},
   "outputs": [],
   "source": []
  }
 ],
 "metadata": {
  "kernelspec": {
   "display_name": "Python 3",
   "language": "python",
   "name": "python3"
  },
  "language_info": {
   "codemirror_mode": {
    "name": "ipython",
    "version": 3
   },
   "file_extension": ".py",
   "mimetype": "text/x-python",
   "name": "python",
   "nbconvert_exporter": "python",
   "pygments_lexer": "ipython3",
   "version": "3.7.3"
  }
 },
 "nbformat": 4,
 "nbformat_minor": 2
}
