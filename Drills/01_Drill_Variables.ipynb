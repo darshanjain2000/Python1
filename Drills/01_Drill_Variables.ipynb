{
 "cells": [
  {
   "cell_type": "code",
   "execution_count": null,
   "metadata": {},
   "outputs": [],
   "source": [
    "#q1\n",
    "DaysPerWeek=7\n",
    "HoursPerDay=24\n",
    "MinutesPerHour=60\n",
    "\n",
    "NumberOfMinInWeek=DaysPerWeek*HoursPerDay*MinutesPerHour\n",
    "\n",
    "print(NumberOfMinInWeek)\n"
   ]
  },
  {
   "cell_type": "code",
   "execution_count": null,
   "metadata": {},
   "outputs": [],
   "source": [
    "#q2\n",
    "DaysPerWeek=7\n",
    "HoursPerDay=26\n",
    "MinutesPerHour=60\n",
    "\n",
    "NumberOfMinInWeek=DaysPerWeek*HoursPerDay*MinutesPerHour\n",
    "\n",
    "print(NumberOfMinInWeek)"
   ]
  },
  {
   "cell_type": "markdown",
   "metadata": {},
   "source": []
  },
  {
   "cell_type": "code",
   "execution_count": null,
   "metadata": {},
   "outputs": [],
   "source": [
    "#q3\n",
    "base=3\n",
    "perpendicular=4\n",
    "hypo=(3*3+4*4)**(1/2) #or 0.5\n",
    "print(hypo)"
   ]
  },
  {
   "cell_type": "code",
   "execution_count": null,
   "metadata": {},
   "outputs": [],
   "source": [
    "#q4\n",
    "n=[1,2,3,4,5,6,7,8]\n",
    "for i in n:\n",
    "    print('2^',i,2**i)"
   ]
  },
  {
   "cell_type": "code",
   "execution_count": null,
   "metadata": {},
   "outputs": [],
   "source": [
    "#q4\n",
    "n=[1,2,3,4,5,6,7,8]\n",
    "for i in n:\n",
    "    print(pow(2,i))\n",
    "    "
   ]
  },
  {
   "cell_type": "code",
   "execution_count": null,
   "metadata": {},
   "outputs": [],
   "source": [
    "#q5\n",
    "n=int(input())\n",
    "print(2**n)"
   ]
  },
  {
   "cell_type": "code",
   "execution_count": null,
   "metadata": {},
   "outputs": [],
   "source": [
    "#Q6\n",
    "base=int(input(('Enter the base ')))\n",
    "power=int(input(('Enter the power ')))\n",
    "print(base**power)"
   ]
  },
  {
   "cell_type": "code",
   "execution_count": null,
   "metadata": {},
   "outputs": [],
   "source": [
    "#q7\n",
    "digit1=int(input())\n",
    "digit2=int(input())\n",
    "digit3=int(input())\n",
    "digit4=int(input())\n",
    "\n",
    "print(digit1)\n",
    "print(digit2)\n",
    "print(digit3)\n",
    "print(digit4)"
   ]
  },
  {
   "cell_type": "code",
   "execution_count": 6,
   "metadata": {},
   "outputs": [
    {
     "name": "stdout",
     "output_type": "stream",
     "text": [
      "qwertyuioasdfghjklzxcvbnm\n",
      "q\n",
      "s\n",
      "enter a character f\n",
      "12\n",
      "15\n"
     ]
    }
   ],
   "source": [
    "#secret_message\n",
    "alphabet= input()\n",
    "print(alphabet[0])\n",
    "print(alphabet[10])\n",
    "key=3\n",
    "character= input('enter a character ')\n",
    "pos=alphabet.find(character)\n",
    "print(pos)\n",
    "newPos=(pos+3)%26\n",
    "print(newPos)"
   ]
  },
  {
   "cell_type": "code",
   "execution_count": 9,
   "metadata": {},
   "outputs": [
    {
     "data": {
      "text/plain": [
       "49"
      ]
     },
     "execution_count": 9,
     "metadata": {},
     "output_type": "execute_result"
    }
   ],
   "source": [
    "#ord (ordinal) is use to find ascii value\n",
    "ord('1')\n",
    "#char('A')\n"
   ]
  },
  {
   "cell_type": "code",
   "execution_count": 14,
   "metadata": {},
   "outputs": [
    {
     "data": {
      "text/plain": [
       "'hello               '"
      ]
     },
     "execution_count": 14,
     "metadata": {},
     "output_type": "execute_result"
    }
   ],
   "source": [
    "format('hello','<20')"
   ]
  },
  {
   "cell_type": "code",
   "execution_count": 13,
   "metadata": {},
   "outputs": [
    {
     "data": {
      "text/plain": [
       "'               hello'"
      ]
     },
     "execution_count": 13,
     "metadata": {},
     "output_type": "execute_result"
    }
   ],
   "source": [
    "format('hello','>20')"
   ]
  },
  {
   "cell_type": "code",
   "execution_count": 20,
   "metadata": {},
   "outputs": [
    {
     "name": "stdout",
     "output_type": "stream",
     "text": [
      "              hello world               \n"
     ]
    }
   ],
   "source": [
    "print(format('hello world','^40'))#for centre"
   ]
  },
  {
   "cell_type": "code",
   "execution_count": 21,
   "metadata": {},
   "outputs": [
    {
     "name": "stdout",
     "output_type": "stream",
     "text": [
      "______________hello world_______________\n"
     ]
    }
   ],
   "source": [
    "print(format('hello world','_^40'))#for centre with design"
   ]
  },
  {
   "cell_type": "code",
   "execution_count": null,
   "metadata": {},
   "outputs": [],
   "source": []
  }
 ],
 "metadata": {
  "kernelspec": {
   "display_name": "Python 3",
   "language": "python",
   "name": "python3"
  },
  "language_info": {
   "codemirror_mode": {
    "name": "ipython",
    "version": 3
   },
   "file_extension": ".py",
   "mimetype": "text/x-python",
   "name": "python",
   "nbconvert_exporter": "python",
   "pygments_lexer": "ipython3",
   "version": "3.7.3"
  }
 },
 "nbformat": 4,
 "nbformat_minor": 2
}
