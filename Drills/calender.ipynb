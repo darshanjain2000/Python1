{
 "cells": [
  {
   "cell_type": "code",
   "execution_count": 50,
   "metadata": {},
   "outputs": [
    {
     "name": "stdout",
     "output_type": "stream",
     "text": [
      "Enter year: 2018\n",
      "Enter month(in no.): 5\n",
      "\n",
      "\n",
      "      May 2018\n",
      "Mo Tu We Th Fr Sa Su\n",
      "    1  2  3  4  5  6\n",
      " 7  8  9 10 11 12 13\n",
      "14 15 16 17 18 19 20\n",
      "21 22 23 24 25 26 27\n",
      "28 29 30 31\n",
      "\n"
     ]
    }
   ],
   "source": [
    "import calendar\n",
    "yy = int(input(\"Enter year: \"))\n",
    "mm = int(input(\"Enter month(in no.): \"))\n",
    "print('\\n')\n",
    "if(1800<=yy<=2099):\n",
    "    print(calendar.month(yy, mm))\n",
    "else:\n",
    "    print('enter year between 1800-2099\\nor  enter month between 1-12')"
   ]
  },
  {
   "cell_type": "code",
   "execution_count": 59,
   "metadata": {},
   "outputs": [
    {
     "name": "stdout",
     "output_type": "stream",
     "text": [
      "Enter the year: 2019\n",
      "Enter the month: 5\n",
      "3\n",
      "\t\t    May 2019\n",
      "\t 1\t 2\t 3\t 4\n",
      "\n",
      "\t 5\t 6\t 7\t 8\t 9\t 10\n",
      "\n",
      "\t 11\t 12\t 13\t 14\t 15\t 16\n",
      "\n",
      "\t 17\t 18\t 19\t 20\t 21\t 22\n",
      "\n",
      "\t 23\t 24\t 25\t 26\t 27\t 28\n",
      "\n",
      "\t 29\t 30\t 31\n",
      "\n"
     ]
    }
   ],
   "source": [
    "import array\n",
    "year=int(input('Enter the year: '))\n",
    "if(1800<=year<=2099):\n",
    "    month=int(input('Enter the month: '))\n",
    "    day=1\n",
    "    def day_of_week(year, month, day):\n",
    "        t = [0, 3, 2, 5, 0, 3, 5, 1, 4, 6, 2, 4]\n",
    "        year -= month < 3\n",
    "        return (year + int(year/4) - int(year/100) + int(year/400) + t[month-1] + day) % 7\n",
    "    y= day_of_week(year, month, day)\n",
    "    print(x)\n",
    "    i=0\n",
    "    j=0\n",
    "    k=0\n",
    "\n",
    "    if(month==1):\n",
    "        monthname='January'\n",
    "    if(month==2):\n",
    "        monthname='Feburary'\n",
    "    if(month==3):\n",
    "        monthname='March'\n",
    "    if(month==4):\n",
    "        monthname='April'\n",
    "    if(month==5):\n",
    "        monthname='May'\n",
    "    if(month==6):\n",
    "        monthname='June'\n",
    "    if(month==7):\n",
    "        monthname='July'\n",
    "    if(month==8):\n",
    "        monthname='August'\n",
    "    if(month==9):\n",
    "        monthname='September'\n",
    "    if(month==10):\n",
    "        monthname='October'\n",
    "    if(month==11):\n",
    "        monthname='November'\n",
    "    if(month==12):\n",
    "        monthname='December'\n",
    "    print('\\t\\t   ',monthname,year)\n",
    "   \n",
    "    for j in range(0,6,1):#colomn\n",
    "        for i in range(y,7,1):#row\n",
    "            if(day<32):\n",
    "                print('\\t',day,end=\"\")\n",
    "                day= day+1\n",
    "                y=1\n",
    "        print('\\n')\n",
    "        \n",
    "else:\n",
    "    print('\\nenter year between 1800-2099\\nor  enter month between 1-12')"
   ]
  },
  {
   "cell_type": "code",
   "execution_count": null,
   "metadata": {},
   "outputs": [],
   "source": [
    "year=int(input('Enter the year:-'))\n",
    "if(1800<=year<=2099):\n",
    "    month=int(input('Enter the month:-'))\n",
    "    day=1\n",
    "    def day_of_week(year, month, day):\n",
    "        t = [0, 3, 2, 5, 0, 3, 5, 1, 4, 6, 2, 4]\n",
    "        year -= month < 3\n",
    "        return (year + int(year/4) - int(year/100) + int(year/400) + t[month-1] + day) % 7\n",
    "    x= day_of_week(year, month, day)\n",
    "    print(x)"
   ]
  },
  {
   "cell_type": "code",
   "execution_count": null,
   "metadata": {},
   "outputs": [],
   "source": [
    "  for i in range(x,7,1):\n",
    "        for j in range(0,4,1):\n",
    "            arr.append(day)\n",
    "            day=day+1\n",
    "            print(arr[i][j],end=\"\")\n",
    "        print('\\n')"
   ]
  }
 ],
 "metadata": {
  "kernelspec": {
   "display_name": "Python 3",
   "language": "python",
   "name": "python3"
  },
  "language_info": {
   "codemirror_mode": {
    "name": "ipython",
    "version": 3
   },
   "file_extension": ".py",
   "mimetype": "text/x-python",
   "name": "python",
   "nbconvert_exporter": "python",
   "pygments_lexer": "ipython3",
   "version": "3.7.3"
  }
 },
 "nbformat": 4,
 "nbformat_minor": 2
}
