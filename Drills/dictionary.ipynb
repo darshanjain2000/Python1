{
 "cells": [
  {
   "cell_type": "code",
   "execution_count": 2,
   "metadata": {},
   "outputs": [
    {
     "name": "stdout",
     "output_type": "stream",
     "text": [
      "{'roll': 123, 'name': 'darshan', 'branch': 'CSE', 'marks': 100}\n"
     ]
    }
   ],
   "source": [
    "student = {'roll':123,'name':'darshan','branch':'CSE','marks':100}\n",
    "print(student)"
   ]
  },
  {
   "cell_type": "code",
   "execution_count": 8,
   "metadata": {},
   "outputs": [
    {
     "name": "stdout",
     "output_type": "stream",
     "text": [
      "{'roll': 123, 'name': 'darshan', 'branch': 'CSE', 'marks': 100}\n",
      "\n",
      "\n",
      "123\n",
      "darshan\n",
      "CSE\n",
      "100\n",
      "\n",
      "\n",
      "123\n",
      "darshan\n",
      "CSE\n",
      "100\n"
     ]
    }
   ],
   "source": [
    "student = {'roll':123,'name':'darshan','branch':'CSE','marks':100}\n",
    "print(student)\n",
    "print('\\n')\n",
    "for keys in student:\n",
    "    print(student[keys])\n",
    "print('\\n')\n",
    "for x in student:  #here in x keys of student dictionary will be there\n",
    "    print(student[x])"
   ]
  },
  {
   "cell_type": "code",
   "execution_count": 22,
   "metadata": {},
   "outputs": [
    {
     "name": "stdout",
     "output_type": "stream",
     "text": [
      "{'roll': 123, 'name': 'darshan', 'branch': 'CSE', 'marks': 100}\n",
      "{'roll': 123, 'name': 'dfghjk', 'branch': 'CSE', 'marks': 100, 'grade': 'A'}\n"
     ]
    }
   ],
   "source": [
    "student = {'roll':123,'name':'darshan','branch':'CSE','marks':100}\n",
    "print(student)\n",
    "\n",
    "student['grade']=\"A\"  #key addition\n",
    "student['name']='dfghjk' #key update\n",
    "print(student)"
   ]
  },
  {
   "cell_type": "code",
   "execution_count": 1,
   "metadata": {},
   "outputs": [
    {
     "name": "stdout",
     "output_type": "stream",
     "text": [
      "2\n",
      "{'c', 'b', 'a', 'd'}\n"
     ]
    }
   ],
   "source": [
    "line='aabcdd'\n",
    "m=len(line)-len(set(line))\n",
    "print(m)\n",
    "print(set(line)) #only single entries"
   ]
  },
  {
   "cell_type": "code",
   "execution_count": null,
   "metadata": {},
   "outputs": [],
   "source": []
  }
 ],
 "metadata": {
  "kernelspec": {
   "display_name": "Python 3",
   "language": "python",
   "name": "python3"
  },
  "language_info": {
   "codemirror_mode": {
    "name": "ipython",
    "version": 3
   },
   "file_extension": ".py",
   "mimetype": "text/x-python",
   "name": "python",
   "nbconvert_exporter": "python",
   "pygments_lexer": "ipython3",
   "version": "3.7.3"
  }
 },
 "nbformat": 4,
 "nbformat_minor": 2
}
