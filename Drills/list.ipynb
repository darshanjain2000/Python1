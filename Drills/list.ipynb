{
 "cells": [
  {
   "cell_type": "code",
   "execution_count": 6,
   "metadata": {},
   "outputs": [
    {
     "name": "stdout",
     "output_type": "stream",
     "text": [
      "Enter values to be seperated: guhjp hg\n",
      "enter the character after which you want to split:  \n",
      "\n",
      "\n",
      "guhjp\n",
      "hg\n"
     ]
    }
   ],
   "source": [
    "list=[]\n",
    "str=input('Enter values to be seperated: ')\n",
    "\n",
    "m=input(\"enter the character after which you want to split: \")\n",
    "list=str.split(m)\n",
    "print(\"\\n\")\n",
    "for x in range(len(list)):\n",
    "    print(list[x])"
   ]
  },
  {
   "cell_type": "code",
   "execution_count": null,
   "metadata": {},
   "outputs": [],
   "source": [
    " "
   ]
  },
  {
   "cell_type": "code",
   "execution_count": null,
   "metadata": {},
   "outputs": [],
   "source": []
  }
 ],
 "metadata": {
  "kernelspec": {
   "display_name": "Python 3",
   "language": "python",
   "name": "python3"
  },
  "language_info": {
   "codemirror_mode": {
    "name": "ipython",
    "version": 3
   },
   "file_extension": ".py",
   "mimetype": "text/x-python",
   "name": "python",
   "nbconvert_exporter": "python",
   "pygments_lexer": "ipython3",
   "version": "3.7.3"
  }
 },
 "nbformat": 4,
 "nbformat_minor": 2
}
